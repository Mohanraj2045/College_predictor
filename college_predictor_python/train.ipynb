{
 "cells": [
  {
   "cell_type": "code",
   "execution_count": 114,
   "metadata": {},
   "outputs": [],
   "source": [
    "import pandas as pd\n",
    "from sklearn.preprocessing import LabelEncoder\n",
    "import matplotlib.pyplot as plt\n",
    "import seaborn as sns\n",
    "from sklearn.model_selection import train_test_split\n",
    "from sklearn.metrics.pairwise import cosine_similarity , linear_kernel\n",
    "import pickle as pkl"
   ]
  },
  {
   "cell_type": "code",
   "execution_count": 115,
   "metadata": {},
   "outputs": [
    {
     "data": {
      "text/html": [
       "<div>\n",
       "<style scoped>\n",
       "    .dataframe tbody tr th:only-of-type {\n",
       "        vertical-align: middle;\n",
       "    }\n",
       "\n",
       "    .dataframe tbody tr th {\n",
       "        vertical-align: top;\n",
       "    }\n",
       "\n",
       "    .dataframe thead th {\n",
       "        text-align: right;\n",
       "    }\n",
       "</style>\n",
       "<table border=\"1\" class=\"dataframe\">\n",
       "  <thead>\n",
       "    <tr style=\"text-align: right;\">\n",
       "      <th></th>\n",
       "      <th>APPLICATIONNUMBER</th>\n",
       "      <th>NAME</th>\n",
       "      <th>AGGREGATEMARK</th>\n",
       "      <th>RANK</th>\n",
       "      <th>COMMUNITY</th>\n",
       "      <th>COLLEGE CODE</th>\n",
       "      <th>BRANCH CODE</th>\n",
       "      <th>ALLOTTED CATEGORY</th>\n",
       "    </tr>\n",
       "  </thead>\n",
       "  <tbody>\n",
       "    <tr>\n",
       "      <th>0</th>\n",
       "      <td>316999</td>\n",
       "      <td>J NITHYASREE</td>\n",
       "      <td>200</td>\n",
       "      <td>1</td>\n",
       "      <td>MBCV</td>\n",
       "      <td>1</td>\n",
       "      <td>CS</td>\n",
       "      <td>OC</td>\n",
       "    </tr>\n",
       "    <tr>\n",
       "      <th>1</th>\n",
       "      <td>251701</td>\n",
       "      <td>SREENITHI A</td>\n",
       "      <td>200</td>\n",
       "      <td>3</td>\n",
       "      <td>BC</td>\n",
       "      <td>1</td>\n",
       "      <td>CS</td>\n",
       "      <td>OC</td>\n",
       "    </tr>\n",
       "    <tr>\n",
       "      <th>2</th>\n",
       "      <td>340928</td>\n",
       "      <td>UMA SHWETHA P L</td>\n",
       "      <td>200</td>\n",
       "      <td>6</td>\n",
       "      <td>OC</td>\n",
       "      <td>1</td>\n",
       "      <td>EC</td>\n",
       "      <td>OC</td>\n",
       "    </tr>\n",
       "    <tr>\n",
       "      <th>3</th>\n",
       "      <td>258426</td>\n",
       "      <td>SUBHASRI SHREYA S L</td>\n",
       "      <td>200</td>\n",
       "      <td>7</td>\n",
       "      <td>BC</td>\n",
       "      <td>2006</td>\n",
       "      <td>CM</td>\n",
       "      <td>OC</td>\n",
       "    </tr>\n",
       "    <tr>\n",
       "      <th>4</th>\n",
       "      <td>243792</td>\n",
       "      <td>Sarathivasan s</td>\n",
       "      <td>200</td>\n",
       "      <td>8</td>\n",
       "      <td>BC</td>\n",
       "      <td>1</td>\n",
       "      <td>CS</td>\n",
       "      <td>OC</td>\n",
       "    </tr>\n",
       "  </tbody>\n",
       "</table>\n",
       "</div>"
      ],
      "text/plain": [
       "   APPLICATIONNUMBER                 NAME AGGREGATEMARK RANK COMMUNITY  \\\n",
       "0             316999         J NITHYASREE           200    1      MBCV   \n",
       "1             251701          SREENITHI A           200    3        BC   \n",
       "2             340928      UMA SHWETHA P L           200    6        OC   \n",
       "3             258426  SUBHASRI SHREYA S L           200    7        BC   \n",
       "4             243792       Sarathivasan s           200    8        BC   \n",
       "\n",
       "   COLLEGE CODE BRANCH CODE ALLOTTED CATEGORY  \n",
       "0             1          CS                OC  \n",
       "1             1          CS                OC  \n",
       "2             1          EC                OC  \n",
       "3          2006          CM                OC  \n",
       "4             1          CS                OC  "
      ]
     },
     "execution_count": 115,
     "metadata": {},
     "output_type": "execute_result"
    }
   ],
   "source": [
    "data = pd.read_csv(\"data.csv\")\n",
    "data_dup = pd.read_csv(\"data.csv\")\n",
    "data.head()"
   ]
  },
  {
   "cell_type": "code",
   "execution_count": 116,
   "metadata": {},
   "outputs": [
    {
     "data": {
      "text/plain": [
       "Index(['APPLICATIONNUMBER', 'NAME', 'AGGREGATEMARK', 'RANK', 'COMMUNITY',\n",
       "       'COLLEGE CODE', 'BRANCH CODE', 'ALLOTTED CATEGORY'],\n",
       "      dtype='object')"
      ]
     },
     "execution_count": 116,
     "metadata": {},
     "output_type": "execute_result"
    }
   ],
   "source": [
    "data.columns"
   ]
  },
  {
   "cell_type": "code",
   "execution_count": 117,
   "metadata": {},
   "outputs": [
    {
     "data": {
      "text/plain": [
       "<bound method IndexOpsMixin.value_counts of 0           1\n",
       "1           1\n",
       "2           1\n",
       "3        2006\n",
       "4           1\n",
       "         ... \n",
       "10143    1309\n",
       "10144    2722\n",
       "10145    2718\n",
       "10146    1113\n",
       "10147    2006\n",
       "Name: COLLEGE CODE, Length: 10148, dtype: int64>"
      ]
     },
     "execution_count": 117,
     "metadata": {},
     "output_type": "execute_result"
    }
   ],
   "source": [
    "data[\"COLLEGE CODE\"].value_counts"
   ]
  },
  {
   "cell_type": "code",
   "execution_count": 118,
   "metadata": {},
   "outputs": [
    {
     "data": {
      "text/html": [
       "<div>\n",
       "<style scoped>\n",
       "    .dataframe tbody tr th:only-of-type {\n",
       "        vertical-align: middle;\n",
       "    }\n",
       "\n",
       "    .dataframe tbody tr th {\n",
       "        vertical-align: top;\n",
       "    }\n",
       "\n",
       "    .dataframe thead th {\n",
       "        text-align: right;\n",
       "    }\n",
       "</style>\n",
       "<table border=\"1\" class=\"dataframe\">\n",
       "  <thead>\n",
       "    <tr style=\"text-align: right;\">\n",
       "      <th></th>\n",
       "      <th>APPLICATIONNUMBER</th>\n",
       "      <th>COLLEGE CODE</th>\n",
       "    </tr>\n",
       "  </thead>\n",
       "  <tbody>\n",
       "    <tr>\n",
       "      <th>count</th>\n",
       "      <td>10148.000000</td>\n",
       "      <td>10148.000000</td>\n",
       "    </tr>\n",
       "    <tr>\n",
       "      <th>mean</th>\n",
       "      <td>276188.026311</td>\n",
       "      <td>2013.396827</td>\n",
       "    </tr>\n",
       "    <tr>\n",
       "      <th>std</th>\n",
       "      <td>44339.663625</td>\n",
       "      <td>1466.736913</td>\n",
       "    </tr>\n",
       "    <tr>\n",
       "      <th>min</th>\n",
       "      <td>200004.000000</td>\n",
       "      <td>1.000000</td>\n",
       "    </tr>\n",
       "    <tr>\n",
       "      <th>25%</th>\n",
       "      <td>240293.750000</td>\n",
       "      <td>1211.000000</td>\n",
       "    </tr>\n",
       "    <tr>\n",
       "      <th>50%</th>\n",
       "      <td>277459.000000</td>\n",
       "      <td>2006.000000</td>\n",
       "    </tr>\n",
       "    <tr>\n",
       "      <th>75%</th>\n",
       "      <td>309127.500000</td>\n",
       "      <td>2712.000000</td>\n",
       "    </tr>\n",
       "    <tr>\n",
       "      <th>max</th>\n",
       "      <td>374890.000000</td>\n",
       "      <td>5988.000000</td>\n",
       "    </tr>\n",
       "  </tbody>\n",
       "</table>\n",
       "</div>"
      ],
      "text/plain": [
       "       APPLICATIONNUMBER  COLLEGE CODE\n",
       "count       10148.000000  10148.000000\n",
       "mean       276188.026311   2013.396827\n",
       "std         44339.663625   1466.736913\n",
       "min        200004.000000      1.000000\n",
       "25%        240293.750000   1211.000000\n",
       "50%        277459.000000   2006.000000\n",
       "75%        309127.500000   2712.000000\n",
       "max        374890.000000   5988.000000"
      ]
     },
     "execution_count": 118,
     "metadata": {},
     "output_type": "execute_result"
    }
   ],
   "source": [
    "data.describe()"
   ]
  },
  {
   "cell_type": "code",
   "execution_count": 119,
   "metadata": {},
   "outputs": [
    {
     "name": "stdout",
     "output_type": "stream",
     "text": [
      "<class 'pandas.core.frame.DataFrame'>\n",
      "RangeIndex: 10148 entries, 0 to 10147\n",
      "Data columns (total 8 columns):\n",
      " #   Column             Non-Null Count  Dtype \n",
      "---  ------             --------------  ----- \n",
      " 0   APPLICATIONNUMBER  10148 non-null  int64 \n",
      " 1   NAME               10148 non-null  object\n",
      " 2   AGGREGATEMARK      10148 non-null  object\n",
      " 3   RANK               10148 non-null  object\n",
      " 4   COMMUNITY          10148 non-null  object\n",
      " 5   COLLEGE CODE       10148 non-null  int64 \n",
      " 6   BRANCH CODE        10148 non-null  object\n",
      " 7   ALLOTTED CATEGORY  10148 non-null  object\n",
      "dtypes: int64(2), object(6)\n",
      "memory usage: 634.4+ KB\n"
     ]
    }
   ],
   "source": [
    "data.info()"
   ]
  },
  {
   "cell_type": "code",
   "execution_count": 120,
   "metadata": {},
   "outputs": [],
   "source": [
    "data = data[[\"AGGREGATEMARK\" ,\"COMMUNITY\" ,   \"BRANCH CODE\" , \"COLLEGE CODE\" ]]"
   ]
  },
  {
   "cell_type": "code",
   "execution_count": 121,
   "metadata": {},
   "outputs": [],
   "source": [
    "def convToint(x):\n",
    "\n",
    "    if(isinstance(x,(int , float))): \n",
    "        return x\n",
    "    \n",
    "    while((not x.isnumeric()) and (not len(x)==0)):\n",
    "        x = x[:-1] \n",
    "    \n",
    "    if(x!=\"\"):\n",
    "        return x\n",
    "    \n",
    "    return 0\n",
    "\n",
    "convToint(\"579.34\")\n",
    "\n",
    "def convToint(x):\n",
    "\n",
    "    if(isinstance(x,(int , float))): \n",
    "        return x\n",
    "    \n",
    "    while((not isinstance(x,float)) and (not len(x)==0)):\n",
    "\n",
    "        try:\n",
    "            x = float(x)\n",
    "        except:\n",
    "            x = x[:-1]\n",
    "    \n",
    "    if(x!=\"\"):\n",
    "        return x\n",
    "    \n",
    "    return 0\n"
   ]
  },
  {
   "cell_type": "code",
   "execution_count": 122,
   "metadata": {},
   "outputs": [
    {
     "data": {
      "text/plain": [
       "(1751,)"
      ]
     },
     "execution_count": 122,
     "metadata": {},
     "output_type": "execute_result"
    }
   ],
   "source": [
    "cols_to_conv = [ \"AGGREGATEMARK\",  \"COLLEGE CODE\"]\n",
    "for col in cols_to_conv:\n",
    "    data[col] = data[col].apply(convToint)\n",
    "\n",
    "data[\"AGGREGATEMARK\"].value_counts().shape\n"
   ]
  },
  {
   "cell_type": "code",
   "execution_count": 123,
   "metadata": {},
   "outputs": [
    {
     "data": {
      "text/plain": [
       "({'BC': 0,\n",
       "  'BCM': 1,\n",
       "  'MBC': 2,\n",
       "  'MBCDNC': 3,\n",
       "  'MBCV': 4,\n",
       "  'OC': 5,\n",
       "  'SC': 6,\n",
       "  'SCA': 7,\n",
       "  'ST': 8},\n",
       " {'AD': 0,\n",
       "  'AE': 1,\n",
       "  'AG': 2,\n",
       "  'AL': 3,\n",
       "  'AM': 4,\n",
       "  'AO': 5,\n",
       "  'AP': 6,\n",
       "  'AS': 7,\n",
       "  'AT': 8,\n",
       "  'AU': 9,\n",
       "  'BM': 10,\n",
       "  'BS': 11,\n",
       "  'BT': 12,\n",
       "  'BY': 13,\n",
       "  'CB': 14,\n",
       "  'CC': 15,\n",
       "  'CD': 16,\n",
       "  'CE': 17,\n",
       "  'CF': 18,\n",
       "  'CH': 19,\n",
       "  'CJ': 20,\n",
       "  'CL': 21,\n",
       "  'CM': 22,\n",
       "  'CN': 23,\n",
       "  'CO': 24,\n",
       "  'CR': 25,\n",
       "  'CS': 26,\n",
       "  'CT': 27,\n",
       "  'CW': 28,\n",
       "  'CY': 29,\n",
       "  'EC': 30,\n",
       "  'EE': 31,\n",
       "  'EI': 32,\n",
       "  'EM': 33,\n",
       "  'ES': 34,\n",
       "  'EY': 35,\n",
       "  'FD': 36,\n",
       "  'FS': 37,\n",
       "  'FT': 38,\n",
       "  'FY': 39,\n",
       "  'GI': 40,\n",
       "  'IB': 41,\n",
       "  'IC': 42,\n",
       "  'IE': 43,\n",
       "  'IM': 44,\n",
       "  'IS': 45,\n",
       "  'IT': 46,\n",
       "  'IY': 47,\n",
       "  'LE': 48,\n",
       "  'MA': 49,\n",
       "  'MC': 50,\n",
       "  'MD': 51,\n",
       "  'ME': 52,\n",
       "  'MF': 53,\n",
       "  'MG': 54,\n",
       "  'MI': 55,\n",
       "  'MN': 56,\n",
       "  'MR': 57,\n",
       "  'MS': 58,\n",
       "  'MT': 59,\n",
       "  'MY': 60,\n",
       "  'MZ': 61,\n",
       "  'PA': 62,\n",
       "  'PC': 63,\n",
       "  'PH': 64,\n",
       "  'PM': 65,\n",
       "  'PN': 66,\n",
       "  'PP': 67,\n",
       "  'PR': 68,\n",
       "  'PS': 69,\n",
       "  'PT': 70,\n",
       "  'RA': 71,\n",
       "  'RM': 72,\n",
       "  'RP': 73,\n",
       "  'SC': 74,\n",
       "  'SE': 75,\n",
       "  'TS': 76,\n",
       "  'TX': 77,\n",
       "  'XC': 78,\n",
       "  'XM': 79})"
      ]
     },
     "execution_count": 123,
     "metadata": {},
     "output_type": "execute_result"
    }
   ],
   "source": [
    "from sklearn.preprocessing import LabelEncoder\n",
    "\n",
    "comEnc = LabelEncoder()\n",
    "braEnc = LabelEncoder()\n",
    "\n",
    "\n",
    "data[\"COMMUNITY\"] = comEnc.fit_transform(data[\"COMMUNITY\"])\n",
    "data[\"BRANCH CODE\"] = braEnc.fit_transform(data[\"BRANCH CODE\"])\n",
    "\n",
    "comMappings = dict(zip(comEnc.classes_ , comEnc.transform(comEnc.classes_)))\n",
    "braMappings = dict(zip(braEnc.classes_ , braEnc.transform(braEnc.classes_)))\n",
    "\n",
    "\n",
    "comMappings , braMappings\n"
   ]
  },
  {
   "cell_type": "code",
   "execution_count": 124,
   "metadata": {},
   "outputs": [
    {
     "name": "stdout",
     "output_type": "stream",
     "text": [
      "<option  value=\"AD\"> <option  value=\"AE\"> <option  value=\"AG\"> <option  value=\"AL\"> <option  value=\"AM\"> <option  value=\"AO\"> <option  value=\"AP\"> <option  value=\"AS\"> <option  value=\"AT\"> <option  value=\"AU\"> <option  value=\"BM\"> <option  value=\"BS\"> <option  value=\"BT\"> <option  value=\"BY\"> <option  value=\"CB\"> <option  value=\"CC\"> <option  value=\"CD\"> <option  value=\"CE\"> <option  value=\"CF\"> <option  value=\"CH\"> <option  value=\"CJ\"> <option  value=\"CL\"> <option  value=\"CM\"> <option  value=\"CN\"> <option  value=\"CO\"> <option  value=\"CR\"> <option  value=\"CS\"> <option  value=\"CT\"> <option  value=\"CW\"> <option  value=\"CY\"> <option  value=\"EC\"> <option  value=\"EE\"> <option  value=\"EI\"> <option  value=\"EM\"> <option  value=\"ES\"> <option  value=\"EY\"> <option  value=\"FD\"> <option  value=\"FS\"> <option  value=\"FT\"> <option  value=\"FY\"> <option  value=\"GI\"> <option  value=\"IB\"> <option  value=\"IC\"> <option  value=\"IE\"> <option  value=\"IM\"> <option  value=\"IS\"> <option  value=\"IT\"> <option  value=\"IY\"> <option  value=\"LE\"> <option  value=\"MA\"> <option  value=\"MC\"> <option  value=\"MD\"> <option  value=\"ME\"> <option  value=\"MF\"> <option  value=\"MG\"> <option  value=\"MI\"> <option  value=\"MN\"> <option  value=\"MR\"> <option  value=\"MS\"> <option  value=\"MT\"> <option  value=\"MY\"> <option  value=\"MZ\"> <option  value=\"PA\"> <option  value=\"PC\"> <option  value=\"PH\"> <option  value=\"PM\"> <option  value=\"PN\"> <option  value=\"PP\"> <option  value=\"PR\"> <option  value=\"PS\"> <option  value=\"PT\"> <option  value=\"RA\"> <option  value=\"RM\"> <option  value=\"RP\"> <option  value=\"SC\"> <option  value=\"SE\"> <option  value=\"TS\"> <option  value=\"TX\"> <option  value=\"XC\"> <option  value=\"XM\"> "
     ]
    }
   ],
   "source": [
    "for i in braEnc.classes_:\n",
    "\n",
    "    print(f'<option  value=\"{i}\"> ',end=\"\")"
   ]
  },
  {
   "cell_type": "code",
   "execution_count": 125,
   "metadata": {},
   "outputs": [
    {
     "data": {
      "text/plain": [
       "<Axes: >"
      ]
     },
     "execution_count": 125,
     "metadata": {},
     "output_type": "execute_result"
    },
    {
     "data": {
      "image/png": "[encoded data removed]",
      "text/plain": [
       "<Figure size 640x480 with 2 Axes>"
      ]
     },
     "metadata": {},
     "output_type": "display_data"
    }
   ],
   "source": [
    "mat = data.corr()\n",
    "sns.heatmap(mat,annot = True)"
   ]
  },
  {
   "cell_type": "code",
   "execution_count": 126,
   "metadata": {},
   "outputs": [
    {
     "data": {
      "text/plain": [
       "Index(['AGGREGATEMARK', 'COMMUNITY', 'BRANCH CODE', 'COLLEGE CODE'], dtype='object')"
      ]
     },
     "execution_count": 126,
     "metadata": {},
     "output_type": "execute_result"
    }
   ],
   "source": [
    "data.columns"
   ]
  },
  {
   "cell_type": "code",
   "execution_count": 127,
   "metadata": {},
   "outputs": [],
   "source": [
    "features = data.drop([\"COLLEGE CODE\"], axis=\"columns\")\n",
    "colleges = data[\"COLLEGE CODE\"]"
   ]
  },
  {
   "cell_type": "code",
   "execution_count": 128,
   "metadata": {},
   "outputs": [
    {
     "data": {
      "text/plain": [
       "(10148, 4)"
      ]
     },
     "execution_count": 128,
     "metadata": {},
     "output_type": "execute_result"
    }
   ],
   "source": [
    "data.shape"
   ]
  },
  {
   "cell_type": "code",
   "execution_count": 129,
   "metadata": {},
   "outputs": [
    {
     "data": {
      "text/html": [
       "<div>\n",
       "<style scoped>\n",
       "    .dataframe tbody tr th:only-of-type {\n",
       "        vertical-align: middle;\n",
       "    }\n",
       "\n",
       "    .dataframe tbody tr th {\n",
       "        vertical-align: top;\n",
       "    }\n",
       "\n",
       "    .dataframe thead th {\n",
       "        text-align: right;\n",
       "    }\n",
       "</style>\n",
       "<table border=\"1\" class=\"dataframe\">\n",
       "  <thead>\n",
       "    <tr style=\"text-align: right;\">\n",
       "      <th></th>\n",
       "      <th>AGGREGATEMARK</th>\n",
       "      <th>COMMUNITY</th>\n",
       "      <th>BRANCH CODE</th>\n",
       "      <th>COLLEGE CODE</th>\n",
       "    </tr>\n",
       "  </thead>\n",
       "  <tbody>\n",
       "    <tr>\n",
       "      <th>0</th>\n",
       "      <td>200.0</td>\n",
       "      <td>4</td>\n",
       "      <td>26</td>\n",
       "      <td>1</td>\n",
       "    </tr>\n",
       "    <tr>\n",
       "      <th>1</th>\n",
       "      <td>200.0</td>\n",
       "      <td>0</td>\n",
       "      <td>26</td>\n",
       "      <td>1</td>\n",
       "    </tr>\n",
       "    <tr>\n",
       "      <th>2</th>\n",
       "      <td>200.0</td>\n",
       "      <td>5</td>\n",
       "      <td>30</td>\n",
       "      <td>1</td>\n",
       "    </tr>\n",
       "    <tr>\n",
       "      <th>3</th>\n",
       "      <td>200.0</td>\n",
       "      <td>0</td>\n",
       "      <td>22</td>\n",
       "      <td>2006</td>\n",
       "    </tr>\n",
       "    <tr>\n",
       "      <th>4</th>\n",
       "      <td>200.0</td>\n",
       "      <td>2</td>\n",
       "      <td>26</td>\n",
       "      <td>1</td>\n",
       "    </tr>\n",
       "    <tr>\n",
       "      <th>...</th>\n",
       "      <td>...</td>\n",
       "      <td>...</td>\n",
       "      <td>...</td>\n",
       "      <td>...</td>\n",
       "    </tr>\n",
       "    <tr>\n",
       "      <th>8910</th>\n",
       "      <td>186.0</td>\n",
       "      <td>1</td>\n",
       "      <td>0</td>\n",
       "      <td>1113</td>\n",
       "    </tr>\n",
       "    <tr>\n",
       "      <th>8911</th>\n",
       "      <td>186.0</td>\n",
       "      <td>4</td>\n",
       "      <td>26</td>\n",
       "      <td>1309</td>\n",
       "    </tr>\n",
       "    <tr>\n",
       "      <th>8912</th>\n",
       "      <td>186.0</td>\n",
       "      <td>4</td>\n",
       "      <td>26</td>\n",
       "      <td>2722</td>\n",
       "    </tr>\n",
       "    <tr>\n",
       "      <th>8913</th>\n",
       "      <td>186.0</td>\n",
       "      <td>0</td>\n",
       "      <td>14</td>\n",
       "      <td>1113</td>\n",
       "    </tr>\n",
       "    <tr>\n",
       "      <th>8914</th>\n",
       "      <td>186.0</td>\n",
       "      <td>0</td>\n",
       "      <td>69</td>\n",
       "      <td>2006</td>\n",
       "    </tr>\n",
       "  </tbody>\n",
       "</table>\n",
       "<p>8915 rows × 4 columns</p>\n",
       "</div>"
      ],
      "text/plain": [
       "      AGGREGATEMARK  COMMUNITY  BRANCH CODE  COLLEGE CODE\n",
       "0             200.0          4           26             1\n",
       "1             200.0          0           26             1\n",
       "2             200.0          5           30             1\n",
       "3             200.0          0           22          2006\n",
       "4             200.0          2           26             1\n",
       "...             ...        ...          ...           ...\n",
       "8910          186.0          1            0          1113\n",
       "8911          186.0          4           26          1309\n",
       "8912          186.0          4           26          2722\n",
       "8913          186.0          0           14          1113\n",
       "8914          186.0          0           69          2006\n",
       "\n",
       "[8915 rows x 4 columns]"
      ]
     },
     "execution_count": 129,
     "metadata": {},
     "output_type": "execute_result"
    }
   ],
   "source": [
    "data = data.drop_duplicates(subset=['AGGREGATEMARK', 'COMMUNITY', 'BRANCH CODE', 'COLLEGE CODE'])\n",
    "data.reset_index(inplace=True , drop=True)\n",
    "data"
   ]
  },
  {
   "cell_type": "code",
   "execution_count": 130,
   "metadata": {},
   "outputs": [],
   "source": [
    "clgDict = {}\n",
    "set(data.loc[0,['AGGREGATEMARK', 'COMMUNITY', 'BRANCH CODE']].values)\n",
    "def makeIndex(arr):\n",
    "\n",
    "    clg = arr[-1]\n",
    "    key = tuple(arr[:-1])\n",
    "\n",
    "    if(key in clgDict):\n",
    "        clgDict[key].append(clg)\n",
    "\n",
    "    else:\n",
    "        clgDict[key] = [clg]"
   ]
  },
  {
   "cell_type": "code",
   "execution_count": 131,
   "metadata": {},
   "outputs": [],
   "source": [
    "for i in range(data.shape[0]):\n",
    "\n",
    "    arr = data.iloc[i].values\n",
    "    makeIndex(arr)"
   ]
  },
  {
   "cell_type": "code",
   "execution_count": 132,
   "metadata": {},
   "outputs": [
    {
     "data": {
      "text/plain": [
       "indices    1\n",
       "Name: (200.0, 0, 26), dtype: int64"
      ]
     },
     "execution_count": 132,
     "metadata": {},
     "output_type": "execute_result"
    }
   ],
   "source": [
    "unique_combinations = features.drop_duplicates(subset=['AGGREGATEMARK', 'COMMUNITY', 'BRANCH CODE'])\n",
    "unique_combinations.reset_index(drop=True,inplace=True)\n",
    "indices = unique_combinations.index\n",
    "unique_features = unique_combinations.set_index(['AGGREGATEMARK', 'COMMUNITY', 'BRANCH CODE'])\n",
    "unique_features[\"indices\"] = indices\n",
    "unique_features.loc[(200.0, comMappings[\"BC\"], braMappings[\"CS\"])]"
   ]
  },
  {
   "cell_type": "code",
   "execution_count": 133,
   "metadata": {},
   "outputs": [
    {
     "data": {
      "text/html": [
       "<div>\n",
       "<style scoped>\n",
       "    .dataframe tbody tr th:only-of-type {\n",
       "        vertical-align: middle;\n",
       "    }\n",
       "\n",
       "    .dataframe tbody tr th {\n",
       "        vertical-align: top;\n",
       "    }\n",
       "\n",
       "    .dataframe thead th {\n",
       "        text-align: right;\n",
       "    }\n",
       "</style>\n",
       "<table border=\"1\" class=\"dataframe\">\n",
       "  <thead>\n",
       "    <tr style=\"text-align: right;\">\n",
       "      <th></th>\n",
       "      <th>index</th>\n",
       "      <th>AGGREGATEMARK</th>\n",
       "      <th>COMMUNITY</th>\n",
       "      <th>BRANCH CODE</th>\n",
       "    </tr>\n",
       "  </thead>\n",
       "  <tbody>\n",
       "    <tr>\n",
       "      <th>0</th>\n",
       "      <td>0</td>\n",
       "      <td>200.0</td>\n",
       "      <td>4</td>\n",
       "      <td>26</td>\n",
       "    </tr>\n",
       "    <tr>\n",
       "      <th>1</th>\n",
       "      <td>1</td>\n",
       "      <td>200.0</td>\n",
       "      <td>0</td>\n",
       "      <td>26</td>\n",
       "    </tr>\n",
       "    <tr>\n",
       "      <th>2</th>\n",
       "      <td>2</td>\n",
       "      <td>200.0</td>\n",
       "      <td>5</td>\n",
       "      <td>30</td>\n",
       "    </tr>\n",
       "    <tr>\n",
       "      <th>3</th>\n",
       "      <td>3</td>\n",
       "      <td>200.0</td>\n",
       "      <td>0</td>\n",
       "      <td>22</td>\n",
       "    </tr>\n",
       "    <tr>\n",
       "      <th>4</th>\n",
       "      <td>4</td>\n",
       "      <td>200.0</td>\n",
       "      <td>2</td>\n",
       "      <td>26</td>\n",
       "    </tr>\n",
       "    <tr>\n",
       "      <th>...</th>\n",
       "      <td>...</td>\n",
       "      <td>...</td>\n",
       "      <td>...</td>\n",
       "      <td>...</td>\n",
       "    </tr>\n",
       "    <tr>\n",
       "      <th>7338</th>\n",
       "      <td>7338</td>\n",
       "      <td>186.0</td>\n",
       "      <td>0</td>\n",
       "      <td>36</td>\n",
       "    </tr>\n",
       "    <tr>\n",
       "      <th>7339</th>\n",
       "      <td>7339</td>\n",
       "      <td>186.0</td>\n",
       "      <td>6</td>\n",
       "      <td>77</td>\n",
       "    </tr>\n",
       "    <tr>\n",
       "      <th>7340</th>\n",
       "      <td>7340</td>\n",
       "      <td>186.0</td>\n",
       "      <td>1</td>\n",
       "      <td>0</td>\n",
       "    </tr>\n",
       "    <tr>\n",
       "      <th>7341</th>\n",
       "      <td>7341</td>\n",
       "      <td>186.0</td>\n",
       "      <td>4</td>\n",
       "      <td>26</td>\n",
       "    </tr>\n",
       "    <tr>\n",
       "      <th>7342</th>\n",
       "      <td>7342</td>\n",
       "      <td>186.0</td>\n",
       "      <td>0</td>\n",
       "      <td>69</td>\n",
       "    </tr>\n",
       "  </tbody>\n",
       "</table>\n",
       "<p>7343 rows × 4 columns</p>\n",
       "</div>"
      ],
      "text/plain": [
       "      index  AGGREGATEMARK  COMMUNITY  BRANCH CODE\n",
       "0         0          200.0          4           26\n",
       "1         1          200.0          0           26\n",
       "2         2          200.0          5           30\n",
       "3         3          200.0          0           22\n",
       "4         4          200.0          2           26\n",
       "...     ...            ...        ...          ...\n",
       "7338   7338          186.0          0           36\n",
       "7339   7339          186.0          6           77\n",
       "7340   7340          186.0          1            0\n",
       "7341   7341          186.0          4           26\n",
       "7342   7342          186.0          0           69\n",
       "\n",
       "[7343 rows x 4 columns]"
      ]
     },
     "execution_count": 133,
     "metadata": {},
     "output_type": "execute_result"
    }
   ],
   "source": [
    "unique_combinations.reset_index()"
   ]
  },
  {
   "cell_type": "code",
   "execution_count": 134,
   "metadata": {},
   "outputs": [],
   "source": [
    "cossim = linear_kernel(unique_combinations , unique_combinations)"
   ]
  },
  {
   "cell_type": "code",
   "execution_count": 135,
   "metadata": {},
   "outputs": [],
   "source": [
    "availKeys = list(clgDict.keys())"
   ]
  },
  {
   "cell_type": "code",
   "execution_count": 136,
   "metadata": {},
   "outputs": [],
   "source": [
    "def getKey(arr):\n",
    "    \n",
    "    m , c , b = arr\n",
    "    keys =  unique_combinations[(unique_combinations[\"COMMUNITY\"] == c) &\n",
    "                    (unique_combinations[\"BRANCH CODE\"] == b) & \n",
    "                    (unique_combinations[\"AGGREGATEMARK\"] <= m)][[\"AGGREGATEMARK\" ,\"COMMUNITY\" , \"BRANCH CODE\"]].values\n",
    "    \n",
    "    if(len(keys) > 0):\n",
    "        return tuple(keys[0])\n",
    "    return (200.0 ,4, 26)"
   ]
  },
  {
   "cell_type": "code",
   "execution_count": 137,
   "metadata": {},
   "outputs": [
    {
     "data": {
      "text/html": [
       "<div>\n",
       "<style scoped>\n",
       "    .dataframe tbody tr th:only-of-type {\n",
       "        vertical-align: middle;\n",
       "    }\n",
       "\n",
       "    .dataframe tbody tr th {\n",
       "        vertical-align: top;\n",
       "    }\n",
       "\n",
       "    .dataframe thead th {\n",
       "        text-align: right;\n",
       "    }\n",
       "</style>\n",
       "<table border=\"1\" class=\"dataframe\">\n",
       "  <thead>\n",
       "    <tr style=\"text-align: right;\">\n",
       "      <th></th>\n",
       "      <th>AGGREGATEMARK</th>\n",
       "      <th>COMMUNITY</th>\n",
       "      <th>BRANCH CODE</th>\n",
       "    </tr>\n",
       "  </thead>\n",
       "  <tbody>\n",
       "    <tr>\n",
       "      <th>41</th>\n",
       "      <td>198.495</td>\n",
       "      <td>6</td>\n",
       "      <td>26</td>\n",
       "    </tr>\n",
       "    <tr>\n",
       "      <th>74</th>\n",
       "      <td>198.000</td>\n",
       "      <td>6</td>\n",
       "      <td>26</td>\n",
       "    </tr>\n",
       "    <tr>\n",
       "      <th>118</th>\n",
       "      <td>197.640</td>\n",
       "      <td>6</td>\n",
       "      <td>26</td>\n",
       "    </tr>\n",
       "    <tr>\n",
       "      <th>156</th>\n",
       "      <td>197.320</td>\n",
       "      <td>6</td>\n",
       "      <td>26</td>\n",
       "    </tr>\n",
       "    <tr>\n",
       "      <th>187</th>\n",
       "      <td>197.100</td>\n",
       "      <td>6</td>\n",
       "      <td>26</td>\n",
       "    </tr>\n",
       "    <tr>\n",
       "      <th>...</th>\n",
       "      <td>...</td>\n",
       "      <td>...</td>\n",
       "      <td>...</td>\n",
       "    </tr>\n",
       "    <tr>\n",
       "      <th>6796</th>\n",
       "      <td>186.500</td>\n",
       "      <td>6</td>\n",
       "      <td>26</td>\n",
       "    </tr>\n",
       "    <tr>\n",
       "      <th>6903</th>\n",
       "      <td>186.435</td>\n",
       "      <td>6</td>\n",
       "      <td>26</td>\n",
       "    </tr>\n",
       "    <tr>\n",
       "      <th>7019</th>\n",
       "      <td>186.300</td>\n",
       "      <td>6</td>\n",
       "      <td>26</td>\n",
       "    </tr>\n",
       "    <tr>\n",
       "      <th>7162</th>\n",
       "      <td>186.130</td>\n",
       "      <td>6</td>\n",
       "      <td>26</td>\n",
       "    </tr>\n",
       "    <tr>\n",
       "      <th>7245</th>\n",
       "      <td>186.045</td>\n",
       "      <td>6</td>\n",
       "      <td>26</td>\n",
       "    </tr>\n",
       "  </tbody>\n",
       "</table>\n",
       "<p>75 rows × 3 columns</p>\n",
       "</div>"
      ],
      "text/plain": [
       "      AGGREGATEMARK  COMMUNITY  BRANCH CODE\n",
       "41          198.495          6           26\n",
       "74          198.000          6           26\n",
       "118         197.640          6           26\n",
       "156         197.320          6           26\n",
       "187         197.100          6           26\n",
       "...             ...        ...          ...\n",
       "6796        186.500          6           26\n",
       "6903        186.435          6           26\n",
       "7019        186.300          6           26\n",
       "7162        186.130          6           26\n",
       "7245        186.045          6           26\n",
       "\n",
       "[75 rows x 3 columns]"
      ]
     },
     "execution_count": 137,
     "metadata": {},
     "output_type": "execute_result"
    }
   ],
   "source": [
    "def getSimilars(arr , cos_sim = cossim):\n",
    "\n",
    "    arr = (float(arr[0]) , arr[1] , arr[2])\n",
    "\n",
    "    if(arr not in availKeys):\n",
    "        arr = getKey(arr)\n",
    "    \n",
    "    index = unique_features.loc[tuple(arr)][\"indices\"]\n",
    "\n",
    "    similars = list(enumerate(cos_sim[index]))\n",
    "\n",
    "\n",
    "    similars = sorted(similars , key = lambda x :  x[1] , reverse = True)\n",
    "\n",
    "    similars = [i for i,j in similars]\n",
    "\n",
    "    similar_marks = unique_combinations.iloc[similars]\n",
    "\n",
    "\n",
    "    return similar_marks[ (similar_marks[\"COMMUNITY\"] == arr[1]) & (similar_marks[\"BRANCH CODE\"] == arr[2])]\n",
    "    \n",
    "similars  = getSimilars([200.0, comMappings[\"SC\"], braMappings[\"CS\"]])\n",
    "similars\n"
   ]
  },
  {
   "cell_type": "code",
   "execution_count": 138,
   "metadata": {},
   "outputs": [
    {
     "data": {
      "text/plain": [
       "[1.0, 5008.0, 4.0, 1315.0, 2007.0, 2025.0, 1211.0, 2005.0, 2377.0, 2607.0]"
      ]
     },
     "execution_count": 138,
     "metadata": {},
     "output_type": "execute_result"
    }
   ],
   "source": [
    "def getColleges(arr , cos_sim=cossim):\n",
    "\n",
    "\n",
    "    similar_marks = getSimilars(arr, cos_sim)\n",
    "\n",
    "    arr = (float(arr[0]) , arr[1] , arr[2])\n",
    "\n",
    "    unique_clgs = list()\n",
    "\n",
    "    for i in range(len(similar_marks)):\n",
    "        \n",
    "        index = similar_marks.iloc[i].values\n",
    "\n",
    "        index = tuple(index)\n",
    "            \n",
    "        for clg in clgDict[index] :\n",
    "            if clg not in unique_clgs:\n",
    "                unique_clgs.append(clg)\n",
    "    \n",
    "    return unique_clgs[:10]\n",
    "            \n",
    "\n",
    "getColleges([200.0, comMappings[\"BC\"], braMappings[\"CS\"]])\n"
   ]
  },
  {
   "cell_type": "code",
   "execution_count": 139,
   "metadata": {},
   "outputs": [],
   "source": [
    "# Savin the necessary data for prediction in server\n",
    "\n",
    "pickleData = dict()\n",
    "\n",
    "pickleData[\"unique_combinations\"] = unique_combinations\n",
    "pickleData[\"cossim\"] = cossim\n",
    "pickleData[\"unique_features\"] = unique_features\n",
    "pickleData[\"clgDict\"] = clgDict\n",
    "pickleData[\"comMappings\"] = comMappings\n",
    "pickleData[\"braMappings\"] = braMappings\n",
    "pickleData[\"availKeys\"] = availKeys\n",
    "\n",
    "with open(\"pickleData\" , \"wb\") as f:\n",
    "    pkl.dump(pickleData , f)"
   ]
  },
  {
   "cell_type": "code",
   "execution_count": 140,
   "metadata": {},
   "outputs": [
    {
     "data": {
      "text/plain": [
       "array([38498.  , 38486.  , 38521.  , ..., 35674.08, 35813.08, 36016.08])"
      ]
     },
     "execution_count": 140,
     "metadata": {},
     "output_type": "execute_result"
    }
   ],
   "source": [
    "cossim[unique_features.loc[(191.78, 3.0, 5.0)][\"indices\"]]"
   ]
  },
  {
   "cell_type": "code",
   "execution_count": 143,
   "metadata": {},
   "outputs": [],
   "source": [
    "id = unique_combinations[(unique_combinations[\"COMMUNITY\"] == 3) &\n",
    "         (unique_combinations[\"BRANCH CODE\"] == 5) ][[\"AGGREGATEMARK\" ,\"COMMUNITY\" , \"BRANCH CODE\"]].values[0]"
   ]
  },
  {
   "cell_type": "code",
   "execution_count": 145,
   "metadata": {},
   "outputs": [
    {
     "data": {
      "text/plain": [
       "[1316.0]"
      ]
     },
     "execution_count": 145,
     "metadata": {},
     "output_type": "execute_result"
    }
   ],
   "source": [
    "clgDict[tuple(id)]"
   ]
  },
  {
   "cell_type": "code",
   "execution_count": null,
   "metadata": {},
   "outputs": [],
   "source": []
  }
 ],
 "metadata": {
  "kernelspec": {
   "display_name": "Python 3",
   "language": "python",
   "name": "python3"
  },
  "language_info": {
   "codemirror_mode": {
    "name": "ipython",
    "version": 3
   },
   "file_extension": ".py",
   "mimetype": "text/x-python",
   "name": "python",
   "nbconvert_exporter": "python",
   "pygments_lexer": "ipython3",
   "version": "3.11.7"
  }
 },
 "nbformat": 4,
 "nbformat_minor": 2
}
